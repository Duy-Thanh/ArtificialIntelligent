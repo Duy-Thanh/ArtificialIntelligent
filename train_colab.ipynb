{
  "cells": [
    {
      "cell_type": "code",
      "execution_count": null,
      "metadata": {},
      "outputs": [],
      "source": [
        "!pip install torch\n",
        "!pip install torchvision\n",
        "!pip install pandas\n",
        "!pip install numpy\n",
        "!pip install transformers\n",
        "!pip install tokenizers\n",
        "!pip install datasets\n",
        "!pip install tqdm\n",
        "!pip install psutil\n",
        "!pip install nltk\n",
        "!pip install sacremoses\n",
        "!pip install sentencepiece\n",
        "!pip install pyarrow\n",
        "!pip install wandb\n",
        "!pip install matplotlib"
      ]
    },
    {
      "cell_type": "code",
      "execution_count": null,
      "metadata": {
        "id": "setup_cell"
      },
      "outputs": [],
      "source": [
        "# Mount Google Drive\n",
        "from google.colab import drive\n",
        "drive.mount('/content/drive')\n",
        "\n",
        "# Create datasets directory\n",
        "!mkdir -p Datasets\n",
        "\n",
        "# Copy dataset from Drive to local\n",
        "!cp -r /content/drive/MyDrive/Datasets/*.parquet Datasets/\n",
        "\n",
        "# Clone and setup project\n",
        "!git clone https://github.com/Duy-Thanh/ArtificialIntelligent.git\n",
        "%cd ArtificialIntelligent\n",
        "!python colab_setup.py"
      ]
    },
    {
      "cell_type": "code",
      "execution_count": null,
      "metadata": {
        "id": "check_gpu_cell"
      },
      "outputs": [],
      "source": [
        "# Check GPU availability\n",
        "!nvidia-smi"
      ]
    },
    {
      "cell_type": "code",
      "execution_count": null,
      "metadata": {
        "id": "train_cell"
      },
      "outputs": [],
      "source": [
        "# Run training\n",
        "!python train.py"
      ]
    }
  ],
  "metadata": {
    "accelerator": "GPU",
    "colab": {
      "name": "GPT Training on Colab",
      "provenance": []
    },
    "language_info": {
      "name": "python"
    }
  },
  "nbformat": 4,
  "nbformat_minor": 0
}
