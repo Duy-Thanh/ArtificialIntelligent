{
  "cells": [
    {
      "cell_type": "code",
      "execution_count": null,
      "metadata": {},
      "outputs": [],
      "source": [
        "# Install dependencies\n",
        "!pip install -q torch torchvision transformers tokenizers datasets tqdm psutil nltk sacremoses sentencepiece pyarrow wandb matplotlib pandas numpy"
      ]
    },
    {
      "cell_type": "code",
      "execution_count": null,
      "metadata": {
        "id": "setup_cell"
      },
      "outputs": [],
      "source": [
        "# Mount Google Drive\n",
        "from google.colab import drive\n",
        "drive.mount('/content/drive')\n",
        "\n",
        "# Clean up any existing directories\n",
        "!rm -rf ArtificialIntelligent\n",
        "!rm -rf Datasets Checkpoints\n",
        "\n",
        "# Create fresh project structure\n",
        "!mkdir -p Datasets Checkpoints\n",
        "\n",
        "# Copy datasets from Drive\n",
        "print(\"Copying dataset files from Drive...\")\n",
        "!cp -v /content/drive/MyDrive/Datasets/*.parquet Datasets/\n",
        "\n",
        "# Clone repository\n",
        "!git clone https://github.com/Duy-Thanh/ArtificialIntelligent.git\n",
        "%cd ArtificialIntelligent\n",
        "\n",
        "# Create symbolic links\n",
        "!ln -sf ../Datasets .\n",
        "!ln -sf ../Checkpoints .\n",
        "\n",
        "# Verify directory structure\n",
        "!ls -la\n",
        "!ls -la Datasets\n",
        "\n",
        "# Setup environment\n",
        "!python colab_setup.py"
      ]
    },
    {
      "cell_type": "code",
      "execution_count": null,
      "metadata": {
        "id": "debug_cell"
      },
      "outputs": [],
      "source": [
        "# Debug directory structure and paths\n",
        "print(\"Current working directory:\")\n",
        "!pwd\n",
        "\n",
        "print(\"\\nRoot directory contents:\")\n",
        "!ls -la /content/\n",
        "\n",
        "print(\"\\nProject directory contents:\")\n",
        "!ls -la /content/ArtificialIntelligent/\n",
        "\n",
        "print(\"\\nDatasets directory contents:\")\n",
        "!ls -la /content/Datasets/\n",
        "\n",
        "print(\"\\nSymbolic links:\")\n",
        "!readlink /content/ArtificialIntelligent/Datasets\n",
        "!readlink /content/ArtificialIntelligent/Checkpoints\n",
        "\n",
        "# Try to find all parquet files\n",
        "print(\"\\nSearching for parquet files:\")\n",
        "!find /content -name \"*.parquet\""
      ]
    },
    {
      "cell_type": "code",
      "execution_count": null,
      "metadata": {
        "id": "fix_paths"
      },
      "outputs": [],
      "source": [
        "# Fix paths if needed\n",
        "%cd /content/ArtificialIntelligent\n",
        "\n",
        "# Remove old symlinks\n",
        "!rm -f Datasets Checkpoints\n",
        "\n",
        "# Create new absolute symlinks\n",
        "!ln -sf /content/Datasets .\n",
        "!ln -sf /content/Checkpoints .\n",
        "\n",
        "# Verify new links\n",
        "print(\"\\nNew symbolic links:\")\n",
        "!ls -la | grep '^l'\n",
        "\n",
        "# Verify dataset files are accessible\n",
        "print(\"\\nDataset files through symlink:\")\n",
        "!ls -la Datasets/*.parquet"
      ]
    },
    {
      "cell_type": "code",
      "execution_count": null,
      "metadata": {
        "id": "check_gpu_cell"
      },
      "outputs": [],
      "source": [
        "# Check GPU availability\n",
        "!nvidia-smi"
      ]
    },
	{
      "cell_type": "code",
      "execution_count": null,
      "metadata": {
        "id": "train_cell"
      },
      "outputs": [],
      "source": [
        "# Run training with absolute paths\n",
        "import os\n",
        "project_dir = '/content/ArtificialIntelligent'\n",
        "datasets_dir = '/content/Datasets'\n",
        "\n",
        "# Set environment variables for paths\n",
        "%env PYTHONPATH=$project_dir\n",
        "%env DATASET_DIR=$datasets_dir\n",
        "\n",
        "# Run training from project directory\n",
        "%cd $project_dir\n",
        "!python train.py"
      ]
    }
  ],
  "metadata": {
    "accelerator": "GPU",
    "colab": {
      "name": "GPT Training on Colab",
      "provenance": []
    },
    "language_info": {
      "name": "python"
    }
  },
  "nbformat": 4,
  "nbformat_minor": 0
}
